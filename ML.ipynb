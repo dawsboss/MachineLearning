{
 "cells": [
  {
   "cell_type": "markdown",
   "id": "5474acfc",
   "metadata": {},
   "source": [
    "## Machine Learning Function Dump\n",
    "#### Author: Grant Dawson\n",
    "##### Date: 08/13/2022 \n",
    "This files goal is to make a class that contains a collection of machine learning algorithms constructed in a way that you can give data to the class and tell it what algorithm to run on it\n",
    "\n",
    "The Algorithms:\n",
    "- [ ] K Nearest Neighbors (KNN)\n",
    "- [ ] Nerual Network (NN)\n",
    "    - [ ] Back Propegation\n",
    "- [ ] Linear Regression\n",
    "- [ ] Logorithmic Regression\n",
    "\n",
    "Encoding: (Used to turn qualitative data to a form of quantitative) [Helpful Link](https://analyticsindiamag.com/a-complete-guide-to-categorical-data-encoding/)\n",
    "- Norminal: \n",
    "    - [ ] One-hot\n",
    "- Ordinal: \n",
    "    - [ ] hold \n",
    "- Effect Encoding\n",
    "- Binary Encoding\n",
    "- Base-N Encoding\n",
    "- Hash Encoding\n",
    "- Target Encoding\n"
   ]
  },
  {
   "cell_type": "code",
   "execution_count": 87,
   "id": "8e3c1729",
   "metadata": {},
   "outputs": [],
   "source": [
    "import numpy as np\n",
    "import pandas as pd"
   ]
  },
  {
   "cell_type": "markdown",
   "id": "62c42385",
   "metadata": {},
   "source": [
    "## One hot\n",
    "Example and implementation"
   ]
  },
  {
   "cell_type": "code",
   "execution_count": 10,
   "id": "226e570c",
   "metadata": {},
   "outputs": [
    {
     "name": "stdout",
     "output_type": "stream",
     "text": [
      "hello world\n",
      "[7, 4, 11, 11, 14, 26, 22, 14, 17, 11, 3]\n",
      "[[0, 0, 0, 0, 0, 0, 0, 1, 0, 0, 0, 0, 0, 0, 0, 0, 0, 0, 0, 0, 0, 0, 0, 0, 0, 0, 0], [0, 0, 0, 0, 1, 0, 0, 0, 0, 0, 0, 0, 0, 0, 0, 0, 0, 0, 0, 0, 0, 0, 0, 0, 0, 0, 0], [0, 0, 0, 0, 0, 0, 0, 0, 0, 0, 0, 1, 0, 0, 0, 0, 0, 0, 0, 0, 0, 0, 0, 0, 0, 0, 0], [0, 0, 0, 0, 0, 0, 0, 0, 0, 0, 0, 1, 0, 0, 0, 0, 0, 0, 0, 0, 0, 0, 0, 0, 0, 0, 0], [0, 0, 0, 0, 0, 0, 0, 0, 0, 0, 0, 0, 0, 0, 1, 0, 0, 0, 0, 0, 0, 0, 0, 0, 0, 0, 0], [0, 0, 0, 0, 0, 0, 0, 0, 0, 0, 0, 0, 0, 0, 0, 0, 0, 0, 0, 0, 0, 0, 0, 0, 0, 0, 1], [0, 0, 0, 0, 0, 0, 0, 0, 0, 0, 0, 0, 0, 0, 0, 0, 0, 0, 0, 0, 0, 0, 1, 0, 0, 0, 0], [0, 0, 0, 0, 0, 0, 0, 0, 0, 0, 0, 0, 0, 0, 1, 0, 0, 0, 0, 0, 0, 0, 0, 0, 0, 0, 0], [0, 0, 0, 0, 0, 0, 0, 0, 0, 0, 0, 0, 0, 0, 0, 0, 0, 1, 0, 0, 0, 0, 0, 0, 0, 0, 0], [0, 0, 0, 0, 0, 0, 0, 0, 0, 0, 0, 1, 0, 0, 0, 0, 0, 0, 0, 0, 0, 0, 0, 0, 0, 0, 0], [0, 0, 0, 1, 0, 0, 0, 0, 0, 0, 0, 0, 0, 0, 0, 0, 0, 0, 0, 0, 0, 0, 0, 0, 0, 0, 0]]\n"
     ]
    }
   ],
   "source": [
    "# define input string\n",
    "data = 'hello world'\n",
    "print(data)\n",
    "# define universe of possible input values\n",
    "alphabet = 'abcdefghijklmnopqrstuvwxyz '\n",
    "# define a mapping of chars to integers\n",
    "char_to_int = dict((c, i) for i, c in enumerate(alphabet))\n",
    "int_to_char = dict((i, c) for i, c in enumerate(alphabet))\n",
    "# integer encode input data\n",
    "integer_encoded = [char_to_int[char] for char in data]\n",
    "print(integer_encoded)\n",
    "# one hot encode\n",
    "onehot_encoded = list()\n",
    "for value in integer_encoded:\n",
    "    letter = [0 for _ in range(len(alphabet))]\n",
    "    letter[value] = 1\n",
    "    onehot_encoded.append(letter)\n",
    "print(onehot_encoded)\n"
   ]
  },
  {
   "cell_type": "code",
   "execution_count": 83,
   "id": "e2d8f3c4",
   "metadata": {},
   "outputs": [],
   "source": [
    "#############\n",
    "#\n",
    "# data - 1xn | nx1 - vector that needs to be converted\n",
    "# totalSet - 1xn | nx1 - Vector of universe of possible input values\n",
    "#\n",
    "# Verbsoe - \n",
    "#\n",
    "#############\n",
    "\n",
    "def OneHotEncode(data, totalSet, verbose=False):\n",
    "    #Validating variables\n",
    "    datashape = np.shape(data)\n",
    "    \"\"\"\n",
    "    #Special ways to get shapes for diffrent types\n",
    "    if(type(data).__module__ == np.__name__):#if(isinstance(data, (np.ndarray, np.generic) )): This might be sketchy... save for later \n",
    "        datashape = data.shape\n",
    "        if(len(datashape) == 0):\n",
    "            return \"Data was empty!\"\n",
    "    elif(type(data)==list):\n",
    "        if(len(data)==0):\n",
    "            return \"Data was empty!\"\n",
    "        datashape = (len(data),1)\n",
    "        \n",
    "\n",
    "    if(type(totalSet).__module__ == np.__name__):#if(isinstance(totalSet, (np.ndarray, np.generic) )): This might be sketchy... save for later \n",
    "    \"\"\"    \n",
    "    \n",
    "    \n",
    "    \n",
    "    #We should be good to start\n",
    "    print(np.shape(totalSet))\n",
    "    onehot_encode = np.zeros((max(datashape), max(np.shape(totalSet))))\n",
    "    j = 0\n",
    "    for i in data:\n",
    "        onehot_encode[j][np.where(totalSet == i)[0][0]] = 1\n",
    "        j=j+1\n",
    "    \n",
    "    if(print(np.where(np.sum(onehot_encode, axis=1)==0)[0])):#A row was left un changed meaning the total set didn't have it \n",
    "        return \"Total set was missing an element or elements\"\n",
    "    \n",
    "    return onehot_encode\n",
    "        \n"
   ]
  },
  {
   "cell_type": "code",
   "execution_count": null,
   "id": "181d7fb0",
   "metadata": {},
   "outputs": [],
   "source": [
    "#############\n",
    "#\n",
    "# Frequency Encoding\n",
    "#\n",
    "# Description: Encode the qualitative data with a number tied to frequency \n",
    "#\n",
    "# data - 1xn | nx1 - vector that needs to be converted\n",
    "# colName - string - only if data is a pandas data frame\n",
    "#\n",
    "# Verbsoe - \n",
    "#\n",
    "#############\n",
    "def FrequencyEncode(data, colName=None):\n",
    "    if(type(data) == list):\n",
    "        data = np.array(data)\n",
    "    \n",
    "    if(type(pd.DataFrame()) == pd.core.frame.DataFrame):\n",
    "        if(colName==None):\n",
    "            return \"Need colName when using pandas\"\n",
    "        elif(type(colName) != string):\n",
    "            return \"colName must be a string\"\n",
    "        if colName not in data.columns:\n",
    "            return \"data[colName] is not a column\"\n",
    "        \n",
    "        fe = data.groupby(colName.size()/len(data))\n",
    "        return data[colName].map(fe)\n",
    "    \n",
    "    if(type(data).__module__ == np.__name__):\n",
    "        uniques = np.unique(x, return_counts=True)\n",
    "        total = np.sum(data,axis=1)[1]\n",
    "        for i in data[:,1]:\n",
    "            \n"
   ]
  },
  {
   "cell_type": "code",
   "execution_count": 93,
   "id": "54b40bff",
   "metadata": {},
   "outputs": [
    {
     "data": {
      "text/plain": [
       "list"
      ]
     },
     "execution_count": 93,
     "metadata": {},
     "output_type": "execute_result"
    }
   ],
   "source": [
    "type([[0,1,],[2,3]])"
   ]
  },
  {
   "cell_type": "code",
   "execution_count": null,
   "id": "43198134",
   "metadata": {},
   "outputs": [],
   "source": []
  }
 ],
 "metadata": {
  "kernelspec": {
   "display_name": "Python 3 (ipykernel)",
   "language": "python",
   "name": "python3"
  },
  "language_info": {
   "codemirror_mode": {
    "name": "ipython",
    "version": 3
   },
   "file_extension": ".py",
   "mimetype": "text/x-python",
   "name": "python",
   "nbconvert_exporter": "python",
   "pygments_lexer": "ipython3",
   "version": "3.10.6"
  }
 },
 "nbformat": 4,
 "nbformat_minor": 5
}
